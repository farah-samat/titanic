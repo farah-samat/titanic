{
 "cells": [
  {
   "cell_type": "markdown",
   "metadata": {},
   "source": [
    "## Libraries and modules"
   ]
  },
  {
   "cell_type": "code",
   "execution_count": 74,
   "metadata": {},
   "outputs": [],
   "source": [
    "import warnings\n",
    "warnings.filterwarnings('ignore')\n",
    "import numpy as np\n",
    "import matplotlib.pyplot as plt\n",
    "import pandas as pd\n",
    "import time\n",
    "from collections import Counter\n",
    "from matplotlib.pyplot import pie, axis, show\n",
    "from sklearn import preprocessing\n",
    "from sklearn import svm\n",
    "from sklearn.neighbors import KNeighborsClassifier\n",
    "from sklearn.linear_model import SGDClassifier\n",
    "from sklearn.model_selection import train_test_split\n",
    "from sklearn.model_selection import cross_val_predict\n",
    "from sklearn.preprocessing import LabelEncoder\n",
    "from sklearn.metrics import accuracy_score\n",
    "from sklearn.ensemble import RandomForestClassifier"
   ]
  },
  {
   "cell_type": "markdown",
   "metadata": {},
   "source": [
    "## Load data"
   ]
  },
  {
   "cell_type": "code",
   "execution_count": 2,
   "metadata": {},
   "outputs": [],
   "source": [
    "df = pd.read_csv('train.csv')\n",
    "dftest = pd.read_csv('test.csv')"
   ]
  },
  {
   "cell_type": "code",
   "execution_count": 3,
   "metadata": {
    "scrolled": false
   },
   "outputs": [
    {
     "name": "stdout",
     "output_type": "stream",
     "text": [
      "Sample training data: 891\n"
     ]
    },
    {
     "data": {
      "text/html": [
       "<div>\n",
       "<style scoped>\n",
       "    .dataframe tbody tr th:only-of-type {\n",
       "        vertical-align: middle;\n",
       "    }\n",
       "\n",
       "    .dataframe tbody tr th {\n",
       "        vertical-align: top;\n",
       "    }\n",
       "\n",
       "    .dataframe thead th {\n",
       "        text-align: right;\n",
       "    }\n",
       "</style>\n",
       "<table border=\"1\" class=\"dataframe\">\n",
       "  <thead>\n",
       "    <tr style=\"text-align: right;\">\n",
       "      <th></th>\n",
       "      <th>PassengerId</th>\n",
       "      <th>Survived</th>\n",
       "      <th>Pclass</th>\n",
       "      <th>Name</th>\n",
       "      <th>Sex</th>\n",
       "      <th>Age</th>\n",
       "      <th>SibSp</th>\n",
       "      <th>Parch</th>\n",
       "      <th>Ticket</th>\n",
       "      <th>Fare</th>\n",
       "      <th>Cabin</th>\n",
       "      <th>Embarked</th>\n",
       "    </tr>\n",
       "  </thead>\n",
       "  <tbody>\n",
       "    <tr>\n",
       "      <th>0</th>\n",
       "      <td>1</td>\n",
       "      <td>0</td>\n",
       "      <td>3</td>\n",
       "      <td>Braund, Mr. Owen Harris</td>\n",
       "      <td>male</td>\n",
       "      <td>22.0</td>\n",
       "      <td>1</td>\n",
       "      <td>0</td>\n",
       "      <td>A/5 21171</td>\n",
       "      <td>7.2500</td>\n",
       "      <td>NaN</td>\n",
       "      <td>S</td>\n",
       "    </tr>\n",
       "    <tr>\n",
       "      <th>1</th>\n",
       "      <td>2</td>\n",
       "      <td>1</td>\n",
       "      <td>1</td>\n",
       "      <td>Cumings, Mrs. John Bradley (Florence Briggs Th...</td>\n",
       "      <td>female</td>\n",
       "      <td>38.0</td>\n",
       "      <td>1</td>\n",
       "      <td>0</td>\n",
       "      <td>PC 17599</td>\n",
       "      <td>71.2833</td>\n",
       "      <td>C85</td>\n",
       "      <td>C</td>\n",
       "    </tr>\n",
       "    <tr>\n",
       "      <th>2</th>\n",
       "      <td>3</td>\n",
       "      <td>1</td>\n",
       "      <td>3</td>\n",
       "      <td>Heikkinen, Miss. Laina</td>\n",
       "      <td>female</td>\n",
       "      <td>26.0</td>\n",
       "      <td>0</td>\n",
       "      <td>0</td>\n",
       "      <td>STON/O2. 3101282</td>\n",
       "      <td>7.9250</td>\n",
       "      <td>NaN</td>\n",
       "      <td>S</td>\n",
       "    </tr>\n",
       "    <tr>\n",
       "      <th>3</th>\n",
       "      <td>4</td>\n",
       "      <td>1</td>\n",
       "      <td>1</td>\n",
       "      <td>Futrelle, Mrs. Jacques Heath (Lily May Peel)</td>\n",
       "      <td>female</td>\n",
       "      <td>35.0</td>\n",
       "      <td>1</td>\n",
       "      <td>0</td>\n",
       "      <td>113803</td>\n",
       "      <td>53.1000</td>\n",
       "      <td>C123</td>\n",
       "      <td>S</td>\n",
       "    </tr>\n",
       "    <tr>\n",
       "      <th>4</th>\n",
       "      <td>5</td>\n",
       "      <td>0</td>\n",
       "      <td>3</td>\n",
       "      <td>Allen, Mr. William Henry</td>\n",
       "      <td>male</td>\n",
       "      <td>35.0</td>\n",
       "      <td>0</td>\n",
       "      <td>0</td>\n",
       "      <td>373450</td>\n",
       "      <td>8.0500</td>\n",
       "      <td>NaN</td>\n",
       "      <td>S</td>\n",
       "    </tr>\n",
       "  </tbody>\n",
       "</table>\n",
       "</div>"
      ],
      "text/plain": [
       "   PassengerId  Survived  Pclass  \\\n",
       "0            1         0       3   \n",
       "1            2         1       1   \n",
       "2            3         1       3   \n",
       "3            4         1       1   \n",
       "4            5         0       3   \n",
       "\n",
       "                                                Name     Sex   Age  SibSp  \\\n",
       "0                            Braund, Mr. Owen Harris    male  22.0      1   \n",
       "1  Cumings, Mrs. John Bradley (Florence Briggs Th...  female  38.0      1   \n",
       "2                             Heikkinen, Miss. Laina  female  26.0      0   \n",
       "3       Futrelle, Mrs. Jacques Heath (Lily May Peel)  female  35.0      1   \n",
       "4                           Allen, Mr. William Henry    male  35.0      0   \n",
       "\n",
       "   Parch            Ticket     Fare Cabin Embarked  \n",
       "0      0         A/5 21171   7.2500   NaN        S  \n",
       "1      0          PC 17599  71.2833   C85        C  \n",
       "2      0  STON/O2. 3101282   7.9250   NaN        S  \n",
       "3      0            113803  53.1000  C123        S  \n",
       "4      0            373450   8.0500   NaN        S  "
      ]
     },
     "execution_count": 3,
     "metadata": {},
     "output_type": "execute_result"
    }
   ],
   "source": [
    "print (\"Sample training data:\", len(df))\n",
    "df.head()"
   ]
  },
  {
   "cell_type": "code",
   "execution_count": 4,
   "metadata": {
    "scrolled": true
   },
   "outputs": [
    {
     "name": "stdout",
     "output_type": "stream",
     "text": [
      "Sample test data: 418\n"
     ]
    },
    {
     "data": {
      "text/html": [
       "<div>\n",
       "<style scoped>\n",
       "    .dataframe tbody tr th:only-of-type {\n",
       "        vertical-align: middle;\n",
       "    }\n",
       "\n",
       "    .dataframe tbody tr th {\n",
       "        vertical-align: top;\n",
       "    }\n",
       "\n",
       "    .dataframe thead th {\n",
       "        text-align: right;\n",
       "    }\n",
       "</style>\n",
       "<table border=\"1\" class=\"dataframe\">\n",
       "  <thead>\n",
       "    <tr style=\"text-align: right;\">\n",
       "      <th></th>\n",
       "      <th>PassengerId</th>\n",
       "      <th>Pclass</th>\n",
       "      <th>Name</th>\n",
       "      <th>Sex</th>\n",
       "      <th>Age</th>\n",
       "      <th>SibSp</th>\n",
       "      <th>Parch</th>\n",
       "      <th>Ticket</th>\n",
       "      <th>Fare</th>\n",
       "      <th>Cabin</th>\n",
       "      <th>Embarked</th>\n",
       "    </tr>\n",
       "  </thead>\n",
       "  <tbody>\n",
       "    <tr>\n",
       "      <th>0</th>\n",
       "      <td>892</td>\n",
       "      <td>3</td>\n",
       "      <td>Kelly, Mr. James</td>\n",
       "      <td>male</td>\n",
       "      <td>34.5</td>\n",
       "      <td>0</td>\n",
       "      <td>0</td>\n",
       "      <td>330911</td>\n",
       "      <td>7.8292</td>\n",
       "      <td>NaN</td>\n",
       "      <td>Q</td>\n",
       "    </tr>\n",
       "    <tr>\n",
       "      <th>1</th>\n",
       "      <td>893</td>\n",
       "      <td>3</td>\n",
       "      <td>Wilkes, Mrs. James (Ellen Needs)</td>\n",
       "      <td>female</td>\n",
       "      <td>47.0</td>\n",
       "      <td>1</td>\n",
       "      <td>0</td>\n",
       "      <td>363272</td>\n",
       "      <td>7.0000</td>\n",
       "      <td>NaN</td>\n",
       "      <td>S</td>\n",
       "    </tr>\n",
       "    <tr>\n",
       "      <th>2</th>\n",
       "      <td>894</td>\n",
       "      <td>2</td>\n",
       "      <td>Myles, Mr. Thomas Francis</td>\n",
       "      <td>male</td>\n",
       "      <td>62.0</td>\n",
       "      <td>0</td>\n",
       "      <td>0</td>\n",
       "      <td>240276</td>\n",
       "      <td>9.6875</td>\n",
       "      <td>NaN</td>\n",
       "      <td>Q</td>\n",
       "    </tr>\n",
       "    <tr>\n",
       "      <th>3</th>\n",
       "      <td>895</td>\n",
       "      <td>3</td>\n",
       "      <td>Wirz, Mr. Albert</td>\n",
       "      <td>male</td>\n",
       "      <td>27.0</td>\n",
       "      <td>0</td>\n",
       "      <td>0</td>\n",
       "      <td>315154</td>\n",
       "      <td>8.6625</td>\n",
       "      <td>NaN</td>\n",
       "      <td>S</td>\n",
       "    </tr>\n",
       "    <tr>\n",
       "      <th>4</th>\n",
       "      <td>896</td>\n",
       "      <td>3</td>\n",
       "      <td>Hirvonen, Mrs. Alexander (Helga E Lindqvist)</td>\n",
       "      <td>female</td>\n",
       "      <td>22.0</td>\n",
       "      <td>1</td>\n",
       "      <td>1</td>\n",
       "      <td>3101298</td>\n",
       "      <td>12.2875</td>\n",
       "      <td>NaN</td>\n",
       "      <td>S</td>\n",
       "    </tr>\n",
       "  </tbody>\n",
       "</table>\n",
       "</div>"
      ],
      "text/plain": [
       "   PassengerId  Pclass                                          Name     Sex  \\\n",
       "0          892       3                              Kelly, Mr. James    male   \n",
       "1          893       3              Wilkes, Mrs. James (Ellen Needs)  female   \n",
       "2          894       2                     Myles, Mr. Thomas Francis    male   \n",
       "3          895       3                              Wirz, Mr. Albert    male   \n",
       "4          896       3  Hirvonen, Mrs. Alexander (Helga E Lindqvist)  female   \n",
       "\n",
       "    Age  SibSp  Parch   Ticket     Fare Cabin Embarked  \n",
       "0  34.5      0      0   330911   7.8292   NaN        Q  \n",
       "1  47.0      1      0   363272   7.0000   NaN        S  \n",
       "2  62.0      0      0   240276   9.6875   NaN        Q  \n",
       "3  27.0      0      0   315154   8.6625   NaN        S  \n",
       "4  22.0      1      1  3101298  12.2875   NaN        S  "
      ]
     },
     "execution_count": 4,
     "metadata": {},
     "output_type": "execute_result"
    }
   ],
   "source": [
    "print (\"Sample test data:\", len(dftest))\n",
    "dftest.head()"
   ]
  },
  {
   "cell_type": "markdown",
   "metadata": {},
   "source": [
    "## Data munging"
   ]
  },
  {
   "cell_type": "markdown",
   "metadata": {},
   "source": [
    "Feature 'Ticket', 'Fare' and 'Cabin' are dropped since they are correlated to 'Class'. Feature 'Name' is also dropped."
   ]
  },
  {
   "cell_type": "code",
   "execution_count": 5,
   "metadata": {},
   "outputs": [],
   "source": [
    "dfcleancsv = pd.concat([df['PassengerId'], df['Pclass'], df['Sex'], df['Age'], df['SibSp'], df['Parch'], df['Embarked'], df['Survived']], axis=1)\n",
    "\n",
    "dftestcleancsv = pd.concat([dftest['PassengerId'], dftest['Pclass'], dftest['Sex'], dftest['Age'], dftest['SibSp'], dftest['Parch'], dftest['Embarked']], axis=1)\n",
    "dftestcleancsv[\"Survived\"] = \"\""
   ]
  },
  {
   "cell_type": "code",
   "execution_count": 6,
   "metadata": {
    "scrolled": true
   },
   "outputs": [
    {
     "name": "stdout",
     "output_type": "stream",
     "text": [
      "Training data: 891\n"
     ]
    },
    {
     "data": {
      "text/html": [
       "<div>\n",
       "<style scoped>\n",
       "    .dataframe tbody tr th:only-of-type {\n",
       "        vertical-align: middle;\n",
       "    }\n",
       "\n",
       "    .dataframe tbody tr th {\n",
       "        vertical-align: top;\n",
       "    }\n",
       "\n",
       "    .dataframe thead th {\n",
       "        text-align: right;\n",
       "    }\n",
       "</style>\n",
       "<table border=\"1\" class=\"dataframe\">\n",
       "  <thead>\n",
       "    <tr style=\"text-align: right;\">\n",
       "      <th></th>\n",
       "      <th>PassengerId</th>\n",
       "      <th>Pclass</th>\n",
       "      <th>Sex</th>\n",
       "      <th>Age</th>\n",
       "      <th>SibSp</th>\n",
       "      <th>Parch</th>\n",
       "      <th>Embarked</th>\n",
       "      <th>Survived</th>\n",
       "    </tr>\n",
       "  </thead>\n",
       "  <tbody>\n",
       "    <tr>\n",
       "      <th>0</th>\n",
       "      <td>1</td>\n",
       "      <td>3</td>\n",
       "      <td>male</td>\n",
       "      <td>22.0</td>\n",
       "      <td>1</td>\n",
       "      <td>0</td>\n",
       "      <td>S</td>\n",
       "      <td>0</td>\n",
       "    </tr>\n",
       "    <tr>\n",
       "      <th>1</th>\n",
       "      <td>2</td>\n",
       "      <td>1</td>\n",
       "      <td>female</td>\n",
       "      <td>38.0</td>\n",
       "      <td>1</td>\n",
       "      <td>0</td>\n",
       "      <td>C</td>\n",
       "      <td>1</td>\n",
       "    </tr>\n",
       "    <tr>\n",
       "      <th>2</th>\n",
       "      <td>3</td>\n",
       "      <td>3</td>\n",
       "      <td>female</td>\n",
       "      <td>26.0</td>\n",
       "      <td>0</td>\n",
       "      <td>0</td>\n",
       "      <td>S</td>\n",
       "      <td>1</td>\n",
       "    </tr>\n",
       "    <tr>\n",
       "      <th>3</th>\n",
       "      <td>4</td>\n",
       "      <td>1</td>\n",
       "      <td>female</td>\n",
       "      <td>35.0</td>\n",
       "      <td>1</td>\n",
       "      <td>0</td>\n",
       "      <td>S</td>\n",
       "      <td>1</td>\n",
       "    </tr>\n",
       "    <tr>\n",
       "      <th>4</th>\n",
       "      <td>5</td>\n",
       "      <td>3</td>\n",
       "      <td>male</td>\n",
       "      <td>35.0</td>\n",
       "      <td>0</td>\n",
       "      <td>0</td>\n",
       "      <td>S</td>\n",
       "      <td>0</td>\n",
       "    </tr>\n",
       "  </tbody>\n",
       "</table>\n",
       "</div>"
      ],
      "text/plain": [
       "   PassengerId  Pclass     Sex   Age  SibSp  Parch Embarked  Survived\n",
       "0            1       3    male  22.0      1      0        S         0\n",
       "1            2       1  female  38.0      1      0        C         1\n",
       "2            3       3  female  26.0      0      0        S         1\n",
       "3            4       1  female  35.0      1      0        S         1\n",
       "4            5       3    male  35.0      0      0        S         0"
      ]
     },
     "execution_count": 6,
     "metadata": {},
     "output_type": "execute_result"
    }
   ],
   "source": [
    "print (\"Training data:\", len(dfcleancsv))\n",
    "dfcleancsv.head()"
   ]
  },
  {
   "cell_type": "code",
   "execution_count": 67,
   "metadata": {
    "scrolled": true
   },
   "outputs": [
    {
     "name": "stdout",
     "output_type": "stream",
     "text": [
      "Test data: 418\n"
     ]
    },
    {
     "data": {
      "text/html": [
       "<div>\n",
       "<style scoped>\n",
       "    .dataframe tbody tr th:only-of-type {\n",
       "        vertical-align: middle;\n",
       "    }\n",
       "\n",
       "    .dataframe tbody tr th {\n",
       "        vertical-align: top;\n",
       "    }\n",
       "\n",
       "    .dataframe thead th {\n",
       "        text-align: right;\n",
       "    }\n",
       "</style>\n",
       "<table border=\"1\" class=\"dataframe\">\n",
       "  <thead>\n",
       "    <tr style=\"text-align: right;\">\n",
       "      <th></th>\n",
       "      <th>PassengerId</th>\n",
       "      <th>Pclass</th>\n",
       "      <th>Sex</th>\n",
       "      <th>Age</th>\n",
       "      <th>SibSp</th>\n",
       "      <th>Parch</th>\n",
       "      <th>Embarked</th>\n",
       "      <th>Survived</th>\n",
       "    </tr>\n",
       "  </thead>\n",
       "  <tbody>\n",
       "    <tr>\n",
       "      <th>0</th>\n",
       "      <td>892</td>\n",
       "      <td>3</td>\n",
       "      <td>male</td>\n",
       "      <td>34.5</td>\n",
       "      <td>0</td>\n",
       "      <td>0</td>\n",
       "      <td>Q</td>\n",
       "      <td></td>\n",
       "    </tr>\n",
       "    <tr>\n",
       "      <th>1</th>\n",
       "      <td>893</td>\n",
       "      <td>3</td>\n",
       "      <td>female</td>\n",
       "      <td>47.0</td>\n",
       "      <td>1</td>\n",
       "      <td>0</td>\n",
       "      <td>S</td>\n",
       "      <td></td>\n",
       "    </tr>\n",
       "    <tr>\n",
       "      <th>2</th>\n",
       "      <td>894</td>\n",
       "      <td>2</td>\n",
       "      <td>male</td>\n",
       "      <td>62.0</td>\n",
       "      <td>0</td>\n",
       "      <td>0</td>\n",
       "      <td>Q</td>\n",
       "      <td></td>\n",
       "    </tr>\n",
       "    <tr>\n",
       "      <th>3</th>\n",
       "      <td>895</td>\n",
       "      <td>3</td>\n",
       "      <td>male</td>\n",
       "      <td>27.0</td>\n",
       "      <td>0</td>\n",
       "      <td>0</td>\n",
       "      <td>S</td>\n",
       "      <td></td>\n",
       "    </tr>\n",
       "    <tr>\n",
       "      <th>4</th>\n",
       "      <td>896</td>\n",
       "      <td>3</td>\n",
       "      <td>female</td>\n",
       "      <td>22.0</td>\n",
       "      <td>1</td>\n",
       "      <td>1</td>\n",
       "      <td>S</td>\n",
       "      <td></td>\n",
       "    </tr>\n",
       "  </tbody>\n",
       "</table>\n",
       "</div>"
      ],
      "text/plain": [
       "   PassengerId  Pclass     Sex   Age  SibSp  Parch Embarked Survived\n",
       "0          892       3    male  34.5      0      0        Q         \n",
       "1          893       3  female  47.0      1      0        S         \n",
       "2          894       2    male  62.0      0      0        Q         \n",
       "3          895       3    male  27.0      0      0        S         \n",
       "4          896       3  female  22.0      1      1        S         "
      ]
     },
     "execution_count": 67,
     "metadata": {},
     "output_type": "execute_result"
    }
   ],
   "source": [
    "print (\"Test data:\", len(dftestcleancsv))\n",
    "dftestcleancsv.head()"
   ]
  },
  {
   "cell_type": "code",
   "execution_count": 7,
   "metadata": {
    "scrolled": true
   },
   "outputs": [
    {
     "name": "stdout",
     "output_type": "stream",
     "text": [
      "Survival distribution (0 = Non survive, 1 = Survive):\n",
      "0    549\n",
      "1    342\n",
      "Name: Survived, dtype: int64\n",
      "Percent survive 0.3838383838383838\n",
      "Percent non survive 0.6161616161616161\n"
     ]
    }
   ],
   "source": [
    "# Check survival distribution\n",
    "print (\"Survival distribution (0 = Non survive, 1 = Survive):\")\n",
    "print (dfcleancsv['Survived'].value_counts())\n",
    "print (\"Percent survive\", dfcleancsv.Survived.value_counts()[1]/len(dfcleancsv))\n",
    "print (\"Percent non survive\", dfcleancsv.Survived.value_counts()[0]/len(dfcleancsv))"
   ]
  },
  {
   "cell_type": "code",
   "execution_count": 8,
   "metadata": {
    "scrolled": true
   },
   "outputs": [
    {
     "name": "stdout",
     "output_type": "stream",
     "text": [
      "Training Data: Feature Age has 177 missing value(s)\n",
      "Training Data: Feature Embarked has 2 missing value(s)\n",
      "Test Data: Feature Age has 86 missing value(s)\n"
     ]
    }
   ],
   "source": [
    "#Check for missing values\n",
    "def  na_count(df, dataset):\n",
    "    counter = 0\n",
    "    for i in range(len(df.columns)):\n",
    "        na_count = df.iloc[:,i].isnull().sum()\n",
    "        if na_count >= 1:\n",
    "            print ('{} Feature {} has {} missing value(s)'.format(dataset, df.columns[i],str(na_count)))\n",
    "            counter += 1\n",
    "    if counter == 0:\n",
    "        print ('No column has NA in {}'.format(dataset))\n",
    "        \n",
    "na_count(pd.DataFrame(dfcleancsv), \"Training Data:\")\n",
    "na_count(pd.DataFrame(dftestcleancsv), \"Test Data:\")"
   ]
  },
  {
   "cell_type": "markdown",
   "metadata": {},
   "source": [
    "Checking the 'Age' distribution in training data set"
   ]
  },
  {
   "cell_type": "code",
   "execution_count": 9,
   "metadata": {},
   "outputs": [
    {
     "data": {
      "image/png": "[encoded data removed]",
      "text/plain": [
       "<matplotlib.figure.Figure at 0x1a153eab70>"
      ]
     },
     "metadata": {},
     "output_type": "display_data"
    }
   ],
   "source": [
    "fig, ax = plt.subplots(nrows=1, ncols=2, figsize=(15,5))\n",
    "ax[0].hist(dfcleancsv['Age'].dropna())\n",
    "ax[0].set_title('Data distribution of feature Age in training dataset')\n",
    "\n",
    "ax[1].hist(dftestcleancsv['Age'].dropna())\n",
    "ax[1].set_title('Data distribution of feature Age in test dataset')\n",
    "\n",
    "plt.show()"
   ]
  },
  {
   "cell_type": "markdown",
   "metadata": {},
   "source": [
    "Since the age distribution is normal, the missing values will be replaced with the mean of age."
   ]
  },
  {
   "cell_type": "code",
   "execution_count": 10,
   "metadata": {
    "scrolled": false
   },
   "outputs": [
    {
     "name": "stdout",
     "output_type": "stream",
     "text": [
      "Training Data Feature Embarked has 2 missing value(s)\n",
      "No column has NA in Test Data\n"
     ]
    }
   ],
   "source": [
    "dfcleancsv['Age'] = dfcleancsv['Age'].fillna(dfcleancsv['Age'].mean())\n",
    "dftestcleancsv['Age'] = dftestcleancsv['Age'].fillna(dftestcleancsv['Age'].mean())\n",
    "na_count(dfcleancsv, \"Training Data\")\n",
    "na_count(dftestcleancsv, \"Test Data\")"
   ]
  },
  {
   "cell_type": "markdown",
   "metadata": {},
   "source": [
    "Checking the new 'Age' distribution"
   ]
  },
  {
   "cell_type": "code",
   "execution_count": 11,
   "metadata": {
    "scrolled": true
   },
   "outputs": [
    {
     "data": {
      "image/png": "[encoded data removed]",
      "text/plain": [
       "<matplotlib.figure.Figure at 0x10ee24c88>"
      ]
     },
     "metadata": {},
     "output_type": "display_data"
    }
   ],
   "source": [
    "fig, ax = plt.subplots(nrows=1, ncols=2, figsize=(15,5))\n",
    "ax[0].hist(dfcleancsv['Age'].dropna())\n",
    "ax[0].set_title('Data distribution of feature Age in training dataset')\n",
    "\n",
    "ax[1].hist(dftestcleancsv['Age'].dropna())\n",
    "ax[1].set_title('Data distribution of feature Age in test dataset')\n",
    "\n",
    "plt.show()"
   ]
  },
  {
   "cell_type": "markdown",
   "metadata": {},
   "source": [
    "Checking the percentage of survival based on place of embark"
   ]
  },
  {
   "cell_type": "code",
   "execution_count": 12,
   "metadata": {
    "scrolled": false
   },
   "outputs": [
    {
     "name": "stdout",
     "output_type": "stream",
     "text": [
      "  Embarked  Total  Survived  Percent Survive\n",
      "1        C    168        93         0.553571\n",
      "2        Q     77        30         0.389610\n",
      "0        S    644       217         0.336957\n"
     ]
    }
   ],
   "source": [
    "embark = dfcleancsv.Embarked.value_counts()\n",
    "dfembark = pd.DataFrame({'Embarked':embark.index, 'Total':embark.values})\n",
    "\n",
    "embark_survive = dfcleancsv.Survived.groupby(dfcleancsv.Embarked).sum()\n",
    "dfembark_survive = pd.DataFrame({'Embarked':embark_survive.index, 'Survived':embark_survive.values})\n",
    "\n",
    "percentembark_survive = pd.merge(dfembark, dfembark_survive, on='Embarked').sort_values(by=['Embarked'])\n",
    "\n",
    "percentembark_survive['Percent Survive'] = percentembark_survive['Survived']/percentembark_survive['Total']\n",
    "print (percentembark_survive)"
   ]
  },
  {
   "cell_type": "markdown",
   "metadata": {},
   "source": [
    "Checking the survival of passenger with no 'Embarked' data"
   ]
  },
  {
   "cell_type": "code",
   "execution_count": 13,
   "metadata": {},
   "outputs": [
    {
     "data": {
      "text/html": [
       "<div>\n",
       "<style scoped>\n",
       "    .dataframe tbody tr th:only-of-type {\n",
       "        vertical-align: middle;\n",
       "    }\n",
       "\n",
       "    .dataframe tbody tr th {\n",
       "        vertical-align: top;\n",
       "    }\n",
       "\n",
       "    .dataframe thead th {\n",
       "        text-align: right;\n",
       "    }\n",
       "</style>\n",
       "<table border=\"1\" class=\"dataframe\">\n",
       "  <thead>\n",
       "    <tr style=\"text-align: right;\">\n",
       "      <th></th>\n",
       "      <th>PassengerId</th>\n",
       "      <th>Pclass</th>\n",
       "      <th>Sex</th>\n",
       "      <th>Age</th>\n",
       "      <th>SibSp</th>\n",
       "      <th>Parch</th>\n",
       "      <th>Embarked</th>\n",
       "      <th>Survived</th>\n",
       "    </tr>\n",
       "  </thead>\n",
       "  <tbody>\n",
       "    <tr>\n",
       "      <th>61</th>\n",
       "      <td>62</td>\n",
       "      <td>1</td>\n",
       "      <td>female</td>\n",
       "      <td>38.0</td>\n",
       "      <td>0</td>\n",
       "      <td>0</td>\n",
       "      <td>NaN</td>\n",
       "      <td>1</td>\n",
       "    </tr>\n",
       "    <tr>\n",
       "      <th>829</th>\n",
       "      <td>830</td>\n",
       "      <td>1</td>\n",
       "      <td>female</td>\n",
       "      <td>62.0</td>\n",
       "      <td>0</td>\n",
       "      <td>0</td>\n",
       "      <td>NaN</td>\n",
       "      <td>1</td>\n",
       "    </tr>\n",
       "  </tbody>\n",
       "</table>\n",
       "</div>"
      ],
      "text/plain": [
       "     PassengerId  Pclass     Sex   Age  SibSp  Parch Embarked  Survived\n",
       "61            62       1  female  38.0      0      0      NaN         1\n",
       "829          830       1  female  62.0      0      0      NaN         1"
      ]
     },
     "execution_count": 13,
     "metadata": {},
     "output_type": "execute_result"
    }
   ],
   "source": [
    "dfcleancsv[dfcleancsv.isnull().any(axis=1)]"
   ]
  },
  {
   "cell_type": "markdown",
   "metadata": {},
   "source": [
    "Since the rate of survival of passengers embarked from 'C' is more than 50% and both passengers with no 'Embarked' data survived, the missing values of 'Embarked' will be replaced by' C'"
   ]
  },
  {
   "cell_type": "code",
   "execution_count": 14,
   "metadata": {},
   "outputs": [
    {
     "name": "stdout",
     "output_type": "stream",
     "text": [
      "No column has NA in Training Data\n"
     ]
    }
   ],
   "source": [
    "dfcleancsv['Embarked'] = dfcleancsv['Embarked'].fillna('C')\n",
    "na_count(dfcleancsv, \"Training Data\")"
   ]
  },
  {
   "cell_type": "markdown",
   "metadata": {},
   "source": [
    "It can be seen that the percent survival distribution is not significantly changed after the missing values replacement."
   ]
  },
  {
   "cell_type": "code",
   "execution_count": 15,
   "metadata": {
    "scrolled": true
   },
   "outputs": [
    {
     "name": "stdout",
     "output_type": "stream",
     "text": [
      "  Embarked  Total  Survived  Percent Survive\n",
      "1        C    170        95         0.558824\n",
      "2        Q     77        30         0.389610\n",
      "0        S    644       217         0.336957\n"
     ]
    }
   ],
   "source": [
    "embark = dfcleancsv.Embarked.value_counts()\n",
    "dfembark = pd.DataFrame({'Embarked':embark.index, 'Total':embark.values})\n",
    "\n",
    "embark_survive = dfcleancsv.Survived.groupby(dfcleancsv.Embarked).sum()\n",
    "dfembark_survive = pd.DataFrame({'Embarked':embark_survive.index, 'Survived':embark_survive.values})\n",
    "\n",
    "percentembark_survive = pd.merge(dfembark, dfembark_survive, on='Embarked').sort_values(by=['Embarked'])\n",
    "\n",
    "percentembark_survive['Percent Survive'] = percentembark_survive['Survived']/percentembark_survive['Total']\n",
    "print (percentembark_survive)"
   ]
  },
  {
   "cell_type": "code",
   "execution_count": 16,
   "metadata": {},
   "outputs": [],
   "source": [
    "# Categorizing 'SibSp' and 'Parch' to 0 or 1\n",
    "dfcleancsv['SibSp'] = dfcleancsv['SibSp'].replace([1,2,3,4,5,6,7,8], 1)\n",
    "dftestcleancsv['SibSp'] = dftestcleancsv['SibSp'].replace([1,2,3,4,5,6,7,8], 1)\n",
    "\n",
    "dfcleancsv['Parch'] = dfcleancsv['Parch'].replace([1,2,3,4,5,6], 1)\n",
    "dftestcleancsv['Parch'] = dftestcleancsv['Parch'].replace([1,2,3,4,5,6,7,8], 1)"
   ]
  },
  {
   "cell_type": "markdown",
   "metadata": {},
   "source": [
    "Normalise and encode data"
   ]
  },
  {
   "cell_type": "code",
   "execution_count": 17,
   "metadata": {},
   "outputs": [],
   "source": [
    "# Encode 'Sex' and 'Embarked' values\n",
    "val_code = LabelEncoder()\n",
    "\n",
    "#Training data\n",
    "dfcleancsv['Sex'] = val_code.fit_transform(dfcleancsv['Sex'])\n",
    "dfcleancsv['Embarked'] = val_code.fit_transform(dfcleancsv['Embarked'])\n",
    "\n",
    "#Test data\n",
    "dftestcleancsv['Sex'] = val_code.fit_transform(dftestcleancsv['Sex'])\n",
    "dftestcleancsv['Embarked'] = val_code.fit_transform(dftestcleancsv['Embarked'])\n"
   ]
  },
  {
   "cell_type": "code",
   "execution_count": 18,
   "metadata": {},
   "outputs": [],
   "source": [
    "# Normalize and scale 'Age'\n",
    "dfcleancsv[\"Age\"] = dfcleancsv[\"Age\"] / dfcleancsv[\"Age\"].max()\n",
    "dftestcleancsv[\"Age\"] = dftestcleancsv[\"Age\"] / dftestcleancsv[\"Age\"].max()\n"
   ]
  },
  {
   "cell_type": "code",
   "execution_count": 19,
   "metadata": {},
   "outputs": [
    {
     "data": {
      "text/html": [
       "<div>\n",
       "<style scoped>\n",
       "    .dataframe tbody tr th:only-of-type {\n",
       "        vertical-align: middle;\n",
       "    }\n",
       "\n",
       "    .dataframe tbody tr th {\n",
       "        vertical-align: top;\n",
       "    }\n",
       "\n",
       "    .dataframe thead th {\n",
       "        text-align: right;\n",
       "    }\n",
       "</style>\n",
       "<table border=\"1\" class=\"dataframe\">\n",
       "  <thead>\n",
       "    <tr style=\"text-align: right;\">\n",
       "      <th></th>\n",
       "      <th>PassengerId</th>\n",
       "      <th>Pclass</th>\n",
       "      <th>Sex</th>\n",
       "      <th>Age</th>\n",
       "      <th>SibSp</th>\n",
       "      <th>Parch</th>\n",
       "      <th>Embarked</th>\n",
       "      <th>Survived</th>\n",
       "    </tr>\n",
       "  </thead>\n",
       "  <tbody>\n",
       "    <tr>\n",
       "      <th>0</th>\n",
       "      <td>1</td>\n",
       "      <td>3</td>\n",
       "      <td>1</td>\n",
       "      <td>0.2750</td>\n",
       "      <td>1</td>\n",
       "      <td>0</td>\n",
       "      <td>2</td>\n",
       "      <td>0</td>\n",
       "    </tr>\n",
       "    <tr>\n",
       "      <th>1</th>\n",
       "      <td>2</td>\n",
       "      <td>1</td>\n",
       "      <td>0</td>\n",
       "      <td>0.4750</td>\n",
       "      <td>1</td>\n",
       "      <td>0</td>\n",
       "      <td>0</td>\n",
       "      <td>1</td>\n",
       "    </tr>\n",
       "    <tr>\n",
       "      <th>2</th>\n",
       "      <td>3</td>\n",
       "      <td>3</td>\n",
       "      <td>0</td>\n",
       "      <td>0.3250</td>\n",
       "      <td>0</td>\n",
       "      <td>0</td>\n",
       "      <td>2</td>\n",
       "      <td>1</td>\n",
       "    </tr>\n",
       "    <tr>\n",
       "      <th>3</th>\n",
       "      <td>4</td>\n",
       "      <td>1</td>\n",
       "      <td>0</td>\n",
       "      <td>0.4375</td>\n",
       "      <td>1</td>\n",
       "      <td>0</td>\n",
       "      <td>2</td>\n",
       "      <td>1</td>\n",
       "    </tr>\n",
       "    <tr>\n",
       "      <th>4</th>\n",
       "      <td>5</td>\n",
       "      <td>3</td>\n",
       "      <td>1</td>\n",
       "      <td>0.4375</td>\n",
       "      <td>0</td>\n",
       "      <td>0</td>\n",
       "      <td>2</td>\n",
       "      <td>0</td>\n",
       "    </tr>\n",
       "  </tbody>\n",
       "</table>\n",
       "</div>"
      ],
      "text/plain": [
       "   PassengerId  Pclass  Sex     Age  SibSp  Parch  Embarked  Survived\n",
       "0            1       3    1  0.2750      1      0         2         0\n",
       "1            2       1    0  0.4750      1      0         0         1\n",
       "2            3       3    0  0.3250      0      0         2         1\n",
       "3            4       1    0  0.4375      1      0         2         1\n",
       "4            5       3    1  0.4375      0      0         2         0"
      ]
     },
     "execution_count": 19,
     "metadata": {},
     "output_type": "execute_result"
    }
   ],
   "source": [
    "dfcleancsv.head()"
   ]
  },
  {
   "cell_type": "code",
   "execution_count": 20,
   "metadata": {},
   "outputs": [
    {
     "data": {
      "text/html": [
       "<div>\n",
       "<style scoped>\n",
       "    .dataframe tbody tr th:only-of-type {\n",
       "        vertical-align: middle;\n",
       "    }\n",
       "\n",
       "    .dataframe tbody tr th {\n",
       "        vertical-align: top;\n",
       "    }\n",
       "\n",
       "    .dataframe thead th {\n",
       "        text-align: right;\n",
       "    }\n",
       "</style>\n",
       "<table border=\"1\" class=\"dataframe\">\n",
       "  <thead>\n",
       "    <tr style=\"text-align: right;\">\n",
       "      <th></th>\n",
       "      <th>PassengerId</th>\n",
       "      <th>Pclass</th>\n",
       "      <th>Sex</th>\n",
       "      <th>Age</th>\n",
       "      <th>SibSp</th>\n",
       "      <th>Parch</th>\n",
       "      <th>Embarked</th>\n",
       "      <th>Survived</th>\n",
       "    </tr>\n",
       "  </thead>\n",
       "  <tbody>\n",
       "    <tr>\n",
       "      <th>0</th>\n",
       "      <td>892</td>\n",
       "      <td>3</td>\n",
       "      <td>1</td>\n",
       "      <td>0.453947</td>\n",
       "      <td>0</td>\n",
       "      <td>0</td>\n",
       "      <td>1</td>\n",
       "      <td></td>\n",
       "    </tr>\n",
       "    <tr>\n",
       "      <th>1</th>\n",
       "      <td>893</td>\n",
       "      <td>3</td>\n",
       "      <td>0</td>\n",
       "      <td>0.618421</td>\n",
       "      <td>1</td>\n",
       "      <td>0</td>\n",
       "      <td>2</td>\n",
       "      <td></td>\n",
       "    </tr>\n",
       "    <tr>\n",
       "      <th>2</th>\n",
       "      <td>894</td>\n",
       "      <td>2</td>\n",
       "      <td>1</td>\n",
       "      <td>0.815789</td>\n",
       "      <td>0</td>\n",
       "      <td>0</td>\n",
       "      <td>1</td>\n",
       "      <td></td>\n",
       "    </tr>\n",
       "    <tr>\n",
       "      <th>3</th>\n",
       "      <td>895</td>\n",
       "      <td>3</td>\n",
       "      <td>1</td>\n",
       "      <td>0.355263</td>\n",
       "      <td>0</td>\n",
       "      <td>0</td>\n",
       "      <td>2</td>\n",
       "      <td></td>\n",
       "    </tr>\n",
       "    <tr>\n",
       "      <th>4</th>\n",
       "      <td>896</td>\n",
       "      <td>3</td>\n",
       "      <td>0</td>\n",
       "      <td>0.289474</td>\n",
       "      <td>1</td>\n",
       "      <td>1</td>\n",
       "      <td>2</td>\n",
       "      <td></td>\n",
       "    </tr>\n",
       "  </tbody>\n",
       "</table>\n",
       "</div>"
      ],
      "text/plain": [
       "   PassengerId  Pclass  Sex       Age  SibSp  Parch  Embarked Survived\n",
       "0          892       3    1  0.453947      0      0         1         \n",
       "1          893       3    0  0.618421      1      0         2         \n",
       "2          894       2    1  0.815789      0      0         1         \n",
       "3          895       3    1  0.355263      0      0         2         \n",
       "4          896       3    0  0.289474      1      1         2         "
      ]
     },
     "execution_count": 20,
     "metadata": {},
     "output_type": "execute_result"
    }
   ],
   "source": [
    "dftestcleancsv.head()"
   ]
  },
  {
   "cell_type": "markdown",
   "metadata": {},
   "source": [
    "## Model Building"
   ]
  },
  {
   "cell_type": "code",
   "execution_count": 79,
   "metadata": {},
   "outputs": [],
   "source": [
    "#Create the training/validation data and labels\n",
    "Xtrain = dfcleancsv.iloc[0:,1:7]\n",
    "ytrain = dfcleancsv.iloc[0:,7:]\n",
    "\n",
    "train_X, val_X, train_y, val_y = train_test_split(Xtrain, ytrain, test_size=0.3)\n",
    "\n",
    "#For results\n",
    "classifier_r = []\n",
    "parameters_r = []\n",
    "accuracy_r = []"
   ]
  },
  {
   "cell_type": "markdown",
   "metadata": {},
   "source": [
    "K-NN"
   ]
  },
  {
   "cell_type": "code",
   "execution_count": 80,
   "metadata": {},
   "outputs": [
    {
     "name": "stdout",
     "output_type": "stream",
     "text": [
      "Running ...\n",
      "\tK\t\tAccuracy\n",
      "\t1.000000\t0.746388\n",
      "\t2.000000\t0.767255\n",
      "\t3.000000\t0.765650\n",
      "\t4.000000\t0.768860\n",
      "\t5.000000\t0.764045\n",
      "\t6.000000\t0.786517\n",
      "\t7.000000\t0.788122\n",
      "\t8.000000\t0.808989\n",
      "\t9.000000\t0.797753\n",
      "\t10.000000\t0.808989\n",
      "\t11.000000\t0.802568\n",
      "\t12.000000\t0.818620\n",
      "\t13.000000\t0.812199\n",
      "\t14.000000\t0.810594\n",
      "\t15.000000\t0.805778\n",
      "\t16.000000\t0.810594\n",
      "\t17.000000\t0.807384\n",
      "\t18.000000\t0.807384\n",
      "\t19.000000\t0.804173\n",
      "\t20.000000\t0.813804\n",
      "\t21.000000\t0.808989\n",
      "\t22.000000\t0.812199\n",
      "\t23.000000\t0.813804\n",
      "\t24.000000\t0.815409\n",
      "\t25.000000\t0.812199\n",
      "\t26.000000\t0.812199\n",
      "\t27.000000\t0.813804\n",
      "\t28.000000\t0.808989\n",
      "\t29.000000\t0.807384\n",
      "\t30.000000\t0.799358\n",
      "\t31.000000\t0.794543\n",
      "\t32.000000\t0.789727\n",
      "\t33.000000\t0.789727\n",
      "\t34.000000\t0.792937\n",
      "\t35.000000\t0.783307\n",
      "\t36.000000\t0.788122\n",
      "\t37.000000\t0.781701\n",
      "\t38.000000\t0.784912\n",
      "\t39.000000\t0.788122\n",
      "\t40.000000\t0.786517\n",
      "\t41.000000\t0.778491\n",
      "\t42.000000\t0.778491\n",
      "\t43.000000\t0.780096\n",
      "\t44.000000\t0.775281\n",
      "\t45.000000\t0.778491\n",
      "\t46.000000\t0.780096\n",
      "\t47.000000\t0.783307\n",
      "\t48.000000\t0.780096\n",
      "\t49.000000\t0.778491\n",
      "\t50.000000\t0.780096\n",
      "========================================\n",
      "--- Running time: 1.9483668804168701 seconds ---\n",
      "The best accuracy score is 0.8186195826645265\n",
      "The best K is 12\n"
     ]
    }
   ],
   "source": [
    "def plot_estimator(estimator, X, y):\n",
    "    '''\n",
    "    This function takes a model (estimator), \n",
    "    '''\n",
    "    estimator.fit(X, y)\n",
    "    # Determine the maximum and minimum mesh as a boundary\n",
    "    x_min, x_max = X[:, 0].min() - .1, X[:, 0].max() + .1\n",
    "    y_min, y_max = X[:, 1].min() - .1, X[:, 1].max() + .1\n",
    "    # Generating the points on the mesh\n",
    "    xx, yy = np.meshgrid(np.linspace(x_min, x_max, 100),\n",
    "                         np.linspace(y_min, y_max, 100))\n",
    "    # Make predictions on the grid points\n",
    "    Z = estimator.predict(np.c_[xx.ravel(), yy.ravel()])\n",
    "\n",
    "    # for color\n",
    "    Z = Z.reshape(xx.shape)\n",
    "    plt.figure()\n",
    "    plt.pcolormesh(xx, yy, Z, cmap=cmap_light)\n",
    "\n",
    "    # Original training sample\n",
    "    plt.scatter(X[:, 0], X[:, 1], c=y, cmap=cmap_bold)\n",
    "    plt.axis('tight')\n",
    "    plt.axis('off')\n",
    "    plt.tight_layout()\n",
    "\n",
    "start_time = time.time()\n",
    "print(\"Running ...\")\n",
    "print \n",
    "k_val = []\n",
    "acc = []\n",
    "print (\"\\tK\\t\\tAccuracy\")\n",
    "\n",
    "# Build a kNN using 1-50 neighbour nodes\n",
    "for i in range(1,51):\n",
    "    k_val.append(i)\n",
    "    knn_model = KNeighborsClassifier(n_neighbors=i)\n",
    "    y_pred = cross_val_predict(knn_model, train_X, train_y, cv=10)\n",
    "    knn_accuracy = accuracy_score(train_y, y_pred)\n",
    "    acc.append(knn_accuracy)\n",
    "    print (\"\\t{:f}\\t{:f}\".format(i, knn_accuracy))\n",
    "\n",
    "print(\"=\"*40)\n",
    "runtime = time.time() - start_time\n",
    "print(\"--- Running time: %s seconds ---\" % (runtime))\n",
    "\n",
    "print (\"The best accuracy score is {}\". format(max(acc)))\n",
    "idx = acc.index(max(acc))\n",
    "best_K = k_val[idx]\n",
    "print (\"The best K is {}\".format(best_K))\n",
    "\n",
    "classifier_r.append(\"K-NN\")\n",
    "parameters_r.append(\"No. of neighbours = {}\".format(best_K))\n",
    "accuracy_r.append(max(acc))"
   ]
  },
  {
   "cell_type": "markdown",
   "metadata": {},
   "source": [
    "Logistic Regression with Elastic Net"
   ]
  },
  {
   "cell_type": "code",
   "execution_count": 81,
   "metadata": {},
   "outputs": [
    {
     "name": "stdout",
     "output_type": "stream",
     "text": [
      "Running ...\n",
      "\tAlpha\t\tL1 Ratio\tAccuracy\n",
      "\t0.000100\t0.000000\t0.723917\n",
      "\t0.000100\t0.150000\t0.731942\n",
      "\t0.000100\t0.500000\t0.719101\n",
      "\t0.000100\t0.700000\t0.757624\n",
      "\t0.000100\t1.000000\t0.759230\n",
      "\t0.000300\t0.000000\t0.690209\n",
      "\t0.000300\t0.150000\t0.723917\n",
      "\t0.000300\t0.500000\t0.723917\n",
      "\t0.000300\t0.700000\t0.685393\n",
      "\t0.000300\t1.000000\t0.762440\n",
      "\t0.001000\t0.000000\t0.765650\n",
      "\t0.001000\t0.150000\t0.746388\n",
      "\t0.001000\t0.500000\t0.701445\n",
      "\t0.001000\t0.700000\t0.776886\n",
      "\t0.001000\t1.000000\t0.701445\n",
      "\t0.003000\t0.000000\t0.773676\n",
      "\t0.003000\t0.150000\t0.760835\n",
      "\t0.003000\t0.500000\t0.791332\n",
      "\t0.003000\t0.700000\t0.768860\n",
      "\t0.003000\t1.000000\t0.776886\n",
      "\t0.010000\t0.000000\t0.781701\n",
      "\t0.010000\t0.150000\t0.797753\n",
      "\t0.010000\t0.500000\t0.751204\n",
      "\t0.010000\t0.700000\t0.767255\n",
      "\t0.010000\t1.000000\t0.760835\n",
      "\t0.030000\t0.000000\t0.780096\n",
      "\t0.030000\t0.150000\t0.786517\n",
      "\t0.030000\t0.500000\t0.772071\n",
      "\t0.030000\t0.700000\t0.791332\n",
      "\t0.030000\t1.000000\t0.789727\n",
      "========================================\n",
      "--- Running time: 10.63218092918396 seconds ---\n",
      "The best accuracy score is 0.797752808988764\n",
      "The best parameters are alpha=0.01, l1=0.15\n"
     ]
    }
   ],
   "source": [
    "alpha_val = [1e-4,3e-4,1e-3,3e-3,1e-2,3e-2]\n",
    "l1 = [0,0.15,0.5,0.7,1]\n",
    "\n",
    "alpha_ = []\n",
    "l1_ = []\n",
    "acc = []\n",
    "print(\"Running ...\")\n",
    "print \n",
    "\n",
    "print (\"\\tAlpha\\t\\tL1 Ratio\\tAccuracy\")\n",
    "\n",
    "for i in range(len(alpha_val)):\n",
    "    for j in l1:\n",
    "        enet = SGDClassifier(loss='log', penalty='elasticnet', alpha=alpha_val[i], l1_ratio=j) \n",
    "        enet.fit(train_X, train_y)\n",
    "        y_pred = enet.predict(train_X)\n",
    "        enet_acc = accuracy_score(y_pred, train_y)\n",
    "        y_pred = cross_val_predict(enet, train_X, train_y, cv=10)\n",
    "        en_accuracy = accuracy_score(train_y, y_pred)\n",
    "        alpha_.append(alpha_val[i])\n",
    "        l1_.append(j)\n",
    "        acc.append(en_accuracy)\n",
    "        print (\"\\t{:f}\\t{:f}\\t{:f}\".format(alpha_val[i],j, en_accuracy))\n",
    "\n",
    "print(\"=\"*40)\n",
    "runtime = time.time() - start_time\n",
    "print(\"--- Running time: %s seconds ---\" % (runtime))\n",
    "\n",
    "print (\"The best accuracy score is {}\". format(max(acc)))\n",
    "idx = acc.index(max(acc))\n",
    "best_alpha = alpha_[idx]\n",
    "best_l1 = l1_[idx]\n",
    "print (\"The best parameters are alpha={}, l1={}\".format(best_alpha, best_l1))\n",
    "\n",
    "classifier_r.append(\"EN\")\n",
    "parameters_r.append(\"Alpha={}, L1={}\".format(best_alpha, best_l1))\n",
    "accuracy_r.append(max(acc))"
   ]
  },
  {
   "cell_type": "markdown",
   "metadata": {},
   "source": [
    "Support Vector Machine with RBF"
   ]
  },
  {
   "cell_type": "code",
   "execution_count": 82,
   "metadata": {},
   "outputs": [
    {
     "name": "stdout",
     "output_type": "stream",
     "text": [
      "Running ...\n",
      "\tGamma\t\tC value\t\tAccuracy\n",
      "\t0.001000\t1.000000\t\t0.617978\n",
      "\t0.001000\t10.000000\t\t0.784912\n",
      "\t0.001000\t100.000000\t\t0.784912\n",
      "\t0.001000\t1000.000000\t\t0.784912\n",
      "\t0.000100\t1.000000\t\t0.617978\n",
      "\t0.000100\t10.000000\t\t0.617978\n",
      "\t0.000100\t100.000000\t\t0.784912\n",
      "\t0.000100\t1000.000000\t\t0.784912\n",
      "========================================\n",
      "--- Running time: 16.492515802383423 seconds ---\n",
      "The best accuracy score is 0.7849117174959872\n",
      "The best parameters are gamma=0.001, C=10\n"
     ]
    }
   ],
   "source": [
    "g = [1e-3, 1e-4]\n",
    "C = [1, 10, 100, 1000]\n",
    "\n",
    "gamma_ = []\n",
    "c_val = []\n",
    "acc = []\n",
    "print(\"Running ...\")\n",
    "print \n",
    "\n",
    "print (\"\\tGamma\\t\\tC value\\t\\tAccuracy\")\n",
    "\n",
    "for i in range(len(g)):\n",
    "    for j in C:\n",
    "        svc = svm.SVC(C=j, kernel='rbf', gamma=g[i]) \n",
    "        y_pred = cross_val_predict(svc, train_X, train_y, cv=10)\n",
    "        svm_accuracy = accuracy_score(train_y, y_pred)\n",
    "        gamma_.append(g[i])\n",
    "        c_val.append(j)\n",
    "        acc.append(svm_accuracy)\n",
    "        print (\"\\t{:f}\\t{:f}\\t\\t{:f}\".format(g[i],j, svm_accuracy))\n",
    "\n",
    "print(\"=\"*40)\n",
    "runtime = time.time() - start_time\n",
    "print(\"--- Running time: %s seconds ---\" % (runtime))\n",
    "\n",
    "print (\"The best accuracy score is {}\". format(max(acc)))\n",
    "idx = acc.index(max(acc))\n",
    "best_gamma = gamma_[idx]\n",
    "best_C = c_val[idx]\n",
    "print (\"The best parameters are gamma={}, C={}\".format(best_gamma, best_C))\n",
    "\n",
    "classifier_r.append(\"SVM\")\n",
    "parameters_r.append(\"Gamma={} C={}\".format(best_gamma, best_C))\n",
    "accuracy_r.append(max(acc))"
   ]
  },
  {
   "cell_type": "markdown",
   "metadata": {},
   "source": [
    "Random Forest"
   ]
  },
  {
   "cell_type": "code",
   "execution_count": 83,
   "metadata": {},
   "outputs": [
    {
     "name": "stdout",
     "output_type": "stream",
     "text": [
      "Running ...\n",
      "\tDepth\t\tNo. of Trees\tAccuracy\n",
      "\t10.000000\t50.000000\t0.800963\n",
      "\t10.000000\t100.000000\t0.800963\n",
      "\t10.000000\t200.000000\t0.796148\n",
      "\t10.000000\t500.000000\t0.794543\n",
      "\t100.000000\t50.000000\t0.794543\n",
      "\t100.000000\t100.000000\t0.792937\n",
      "\t100.000000\t200.000000\t0.794543\n",
      "\t100.000000\t500.000000\t0.796148\n",
      "\t300.000000\t50.000000\t0.794543\n",
      "\t300.000000\t100.000000\t0.792937\n",
      "\t300.000000\t200.000000\t0.794543\n",
      "\t300.000000\t500.000000\t0.796148\n",
      "\t500.000000\t50.000000\t0.794543\n",
      "\t500.000000\t100.000000\t0.792937\n",
      "\t500.000000\t200.000000\t0.794543\n",
      "\t500.000000\t500.000000\t0.796148\n",
      "========================================\n",
      "--- Running time: 79.66973185539246 seconds ---\n",
      "The best accuracy score is 0.8009630818619583\n",
      "The best parameters are tree depth=10 with no. of trees=50\n"
     ]
    }
   ],
   "source": [
    "depth = [10,100,300,500]\n",
    "trees = [50,100,200,500]\n",
    "\n",
    "depth_ = []\n",
    "trees_ = []\n",
    "acc = []\n",
    "\n",
    "print(\"Running ...\")\n",
    "print \n",
    "\n",
    "print (\"\\tDepth\\t\\tNo. of Trees\\tAccuracy\")\n",
    "\n",
    "for i in range(len(depth)):\n",
    "    for j in trees:\n",
    "        rfclf = RandomForestClassifier(n_estimators=j, max_depth=depth[i], random_state=42)\n",
    "        y_pred = cross_val_predict(rfclf, train_X, train_y, cv=10)\n",
    "        rf_accuracy = accuracy_score(train_y, y_pred)\n",
    "        depth_.append(depth[i])\n",
    "        trees_.append(j)\n",
    "        acc.append(rf_accuracy)\n",
    "        print (\"\\t{:f}\\t{:f}\\t{:f}\".format(depth[i],j, rf_accuracy))\n",
    "        \n",
    "print(\"=\"*40)\n",
    "runtime = time.time() - start_time\n",
    "print(\"--- Running time: %s seconds ---\" % (runtime))\n",
    "\n",
    "print (\"The best accuracy score is {}\". format(max(acc)))\n",
    "idx = acc.index(max(acc))\n",
    "best_depth = depth_[idx]\n",
    "best_trees = trees_[idx]\n",
    "print (\"The best parameters are tree depth={} with no. of trees={}\".format(best_depth, best_trees))\n",
    "\n",
    "classifier_r.append(\"RF\")\n",
    "parameters_r.append(\"Depth={} Trees={}\".format(best_depth, best_trees))\n",
    "accuracy_r.append(max(acc))"
   ]
  },
  {
   "cell_type": "markdown",
   "metadata": {},
   "source": [
    "Summary - the best classifier"
   ]
  },
  {
   "cell_type": "code",
   "execution_count": 89,
   "metadata": {},
   "outputs": [
    {
     "name": "stdout",
     "output_type": "stream",
     "text": [
      "\tClassifier\tBest parameters\t\t Validation Accuracy\n",
      "\tK-NN\t\tNo. of neighbours = 12\t\t0.818620\n",
      "\tEN\t\tAlpha=0.01, L1=0.15\t\t0.797753\n",
      "\tSVM\t\tGamma=0.001 C=10\t\t0.784912\n",
      "\tRF\t\tDepth=10 Trees=50\t\t0.800963\n",
      "The best validation accuracy is 0.8186195826645265 where K-NN classifier is used with No. of neighbours = 12.\n",
      "The worst performing classifier is SVM with Gamma=0.001 C=10 which gave validation accuracy value of 0.7849117174959872.\n"
     ]
    }
   ],
   "source": [
    "print (\"\\tClassifier\\tBest parameters\\t\\t Validation Accuracy\")\n",
    "for i in range(len(classifier_r)):\n",
    "    print (\"\\t{:s}\\t\\t{:s}\\t\\t{:f}\".format(classifier_r[i], parameters_r[i], accuracy_r[i]))\n",
    "print \n",
    "idx = accuracy_r.index(max(accuracy_r))\n",
    "idx_ = accuracy_r.index(min(accuracy_r))\n",
    "print ('The best validation accuracy is {} where {} classifier is used with {}.'.format(max(accuracy_r), classifier_r[idx], parameters_r[idx]))\n",
    "print \n",
    "print ('The worst performing classifier is {} with {} which gave validation accuracy value of {}.'. format(classifier_r[idx_],  parameters_r[idx_], min(accuracy_r)))\n"
   ]
  },
  {
   "cell_type": "markdown",
   "metadata": {},
   "source": [
    "Predicting the survival of passengers listed in test data"
   ]
  },
  {
   "cell_type": "code",
   "execution_count": 115,
   "metadata": {},
   "outputs": [],
   "source": [
    "p_id = dftestcleancsv.iloc[0:,0:1]\n",
    "p_id = np.array(p_id.iloc[:, 0].tolist())"
   ]
  },
  {
   "cell_type": "code",
   "execution_count": 116,
   "metadata": {},
   "outputs": [],
   "source": [
    "Xtest = dftestcleancsv.iloc[0:,1:7]\n",
    "\n",
    "knn_model = KNeighborsClassifier(n_neighbors=best_K)\n",
    "knn_model.fit(Xtrain, ytrain)\n",
    "y_pred = knn_model.predict(Xtest)\n"
   ]
  },
  {
   "cell_type": "markdown",
   "metadata": {},
   "source": [
    "Saving into the required format"
   ]
  },
  {
   "cell_type": "code",
   "execution_count": 117,
   "metadata": {},
   "outputs": [],
   "source": [
    "pred_df = pd.DataFrame({\"PassengerId\" : p_id, \"Survived\" : y_pred})\n",
    "pred_df.to_csv(\"submission.csv\", index=False)"
   ]
  }
 ],
 "metadata": {
  "kernelspec": {
   "display_name": "Python 3",
   "language": "python",
   "name": "python3"
  },
  "language_info": {
   "codemirror_mode": {
    "name": "ipython",
    "version": 3
   },
   "file_extension": ".py",
   "mimetype": "text/x-python",
   "name": "python",
   "nbconvert_exporter": "python",
   "pygments_lexer": "ipython3",
   "version": "3.6.4"
  }
 },
 "nbformat": 4,
 "nbformat_minor": 2
}
